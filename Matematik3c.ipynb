{
 "cells": [
  {
   "cell_type": "markdown",
   "metadata": {},
   "source": [
    "## Välkommen till dagens programmeringslabb!\n",
    "\n",
    "Här kommer vi att bekanta oss med hur matematiska uppgifter kan lösas med hjälp av programmeringsspråket **Python**.\n",
    "\n",
    "Vi börjar med att skriva ut text på skärmen. Nedan finns en s.k. \"cell\", där man kan skriva in programkod.\n",
    "Den första raden börjar med ett anrop till python-funktionen \"print\", följt av *argumentet* till funktionen inom parentes. Text definieras med hjälp av citattecken. Man kan exekvera cellen genom att clicka vänster på den med pekaren, följd av kombinationen ctrl+enter på tangentbordet, eller genom att trycka på \"run\"-knappen ovanför. Tecknet \"#\" används i början av en rad för att den ska upfattas som en kommentar, dvs inte exekveras. \n",
    "\n",
    "1) Exekvera exempel-cellen nedan"
   ]
  },
  {
   "cell_type": "code",
   "execution_count": 25,
   "metadata": {},
   "outputs": [
    {
     "name": "stdout",
     "output_type": "stream",
     "text": [
      "Hello world!\n"
     ]
    }
   ],
   "source": [
    "print(\"Hello world!\")\n",
    "#print(\"Hello Python!\");\n",
    "#print(Hello debugging!\");"
   ]
  },
  {
   "cell_type": "markdown",
   "metadata": {},
   "source": [
    "2) Testa att ta bort # framför andra raden i cellen nedanför, följt av exekvering.\n",
    "3) Ta sen bort # framför tredje raden, följt av exekvering "
   ]
  },
  {
   "cell_type": "code",
   "execution_count": 26,
   "metadata": {},
   "outputs": [
    {
     "ename": "SyntaxError",
     "evalue": "invalid syntax (<ipython-input-26-534ef8835dbd>, line 3)",
     "output_type": "error",
     "traceback": [
      "\u001b[0;36m  File \u001b[0;32m\"<ipython-input-26-534ef8835dbd>\"\u001b[0;36m, line \u001b[0;32m3\u001b[0m\n\u001b[0;31m    print(Hello debugging!\");\u001b[0m\n\u001b[0m                        ^\u001b[0m\n\u001b[0;31mSyntaxError\u001b[0m\u001b[0;31m:\u001b[0m invalid syntax\n"
     ]
    }
   ],
   "source": [
    "print(\"Hello world!\")\n",
    "print(\"Hello Python!\");\n",
    "print(Hello debugging!\");"
   ]
  },
  {
   "cell_type": "markdown",
   "metadata": {},
   "source": [
    "Du har nu råkat ut för ett så-kallat \"syntax fel\", dvs python kan inte förstå det som skickats in. I det här fallet förväntar sej funktionen \"print\" en text, som definieras mha citattecken. Något saknas för att anropet i 3e raden ska ha korrekt syntax. Fixa det och exekvera igen."
   ]
  },
  {
   "cell_type": "markdown",
   "metadata": {},
   "source": [
    "### Exempel 1: Numerisk derivering\n",
    "\n",
    "Funktioner i python skriver inte bara ut saker, utan kan även utföra matematiska operationer, precis som de funktioner vi arbetar med i Matematik 3c. I cellen nedanför definieras en python-funktion som beräknar en matematisk funktion:"
   ]
  },
  {
   "cell_type": "code",
   "execution_count": 27,
   "metadata": {},
   "outputs": [],
   "source": [
    "#Definition av funktionen f(x).\n",
    "#'x**3' betyder 'x upphöjt i tre' medans '2*x' betyder 'två gånger x'.\n",
    "def f(x):\n",
    "    return x**3 + 2*x + 5"
   ]
  },
  {
   "cell_type": "markdown",
   "metadata": {},
   "source": [
    "Fundera över vad python-funktionen gör, vad den tar för *argument* och hur den matematiska funktionen beräknas och resultatet *returneras*.\n",
    "\n",
    "Nedanför definieras en annan python-funktion, som numeriskt beräknar derivatan i en punkt *a* av en matematisk funktion *f(x)* som redan är definierad (i cellen ovanför):"
   ]
  },
  {
   "cell_type": "code",
   "execution_count": 28,
   "metadata": {},
   "outputs": [],
   "source": [
    "#Definition av närmevärde till f'(x) för finit h.\n",
    "def f_prim(a):\n",
    "    h = 0.1\n",
    "    return (f(a + h) - f(a)) / h"
   ]
  },
  {
   "cell_type": "markdown",
   "metadata": {},
   "source": [
    "Nu har vi definierat en funktion *f(x)* och en funktion *f_prim(a)*. Låt oss nu se vad derivatan blir för *a=4*:"
   ]
  },
  {
   "cell_type": "code",
   "execution_count": 29,
   "metadata": {},
   "outputs": [
    {
     "name": "stdout",
     "output_type": "stream",
     "text": [
      "f'(4) = 51.20999999999981\n"
     ]
    }
   ],
   "source": [
    "print(\"f'(4) =\", f_prim(4))"
   ]
  },
  {
   "cell_type": "markdown",
   "metadata": {},
   "source": [
    "När vi definierade python-funktionen för derivatan bestämde vi att steget *h* skulle vara 0.1, minska till *h=0.01* och exekvera cellerna igen, notera skillnaden i resultatet *f'(4)*. \n",
    "\n",
    "Fortsätt sedan miska *h* till du har minst 2 decilamers nogrannhet. "
   ]
  }
 ],
 "metadata": {
  "kernelspec": {
   "display_name": "Python 3",
   "language": "python",
   "name": "python3"
  },
  "language_info": {
   "codemirror_mode": {
    "name": "ipython",
    "version": 3
   },
   "file_extension": ".py",
   "mimetype": "text/x-python",
   "name": "python",
   "nbconvert_exporter": "python",
   "pygments_lexer": "ipython3",
   "version": "3.7.6"
  }
 },
 "nbformat": 4,
 "nbformat_minor": 4
}
